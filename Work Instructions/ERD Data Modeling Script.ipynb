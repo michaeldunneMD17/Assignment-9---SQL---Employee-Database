{
 "cells": [
  {
   "cell_type": "markdown",
   "id": "1fb35432",
   "metadata": {},
   "source": [
    "# ERD Data Modeling Script "
   ]
  },
  {
   "cell_type": "code",
   "execution_count": null,
   "id": "c3e9d417",
   "metadata": {},
   "outputs": [],
   "source": [
    "departments\n",
    "-\n",
    "dept_no VARCHAR PK\n",
    "dept_name VARCHAR\n",
    "\n",
    "dept_emp\n",
    "-\n",
    "emp_no INT FK >- employees.emp_no\n",
    "dept_no VARCHAR FK >- departments.dept_no\n",
    "from_date DATE\n",
    "to_date DATE\n",
    "\n",
    "dept_manager\n",
    "-\n",
    "dept_no VARCHAR FK >- departments.dept_no\n",
    "emp_no INT FK >- employees.emp_no\n",
    "from_date DATE\n",
    "to_date DATE\n",
    "\n",
    "employees\n",
    "-\n",
    "emp_no INT PK\n",
    "birth_date DATE\n",
    "first_name VARCHAR\n",
    "last_name VARCHAR\n",
    "gender VARCHAR\n",
    "hire_date DATE\n",
    "\n",
    "salaries\n",
    "-\n",
    "emp_no INT FK >- employees.emp_no\n",
    "salary INT\n",
    "from_date DATE\n",
    "to_date DATE\n",
    "\n",
    "titles\n",
    "-\n",
    "emp_no INT FK >- employees.emp_no\n",
    "title VARCHAR\n",
    "from_date DATE\n",
    "to_date DATE"
   ]
  }
 ],
 "metadata": {
  "kernelspec": {
   "display_name": "Python 3 (ipykernel)",
   "language": "python",
   "name": "python3"
  },
  "language_info": {
   "codemirror_mode": {
    "name": "ipython",
    "version": 3
   },
   "file_extension": ".py",
   "mimetype": "text/x-python",
   "name": "python",
   "nbconvert_exporter": "python",
   "pygments_lexer": "ipython3",
   "version": "3.9.7"
  }
 },
 "nbformat": 4,
 "nbformat_minor": 5
}
